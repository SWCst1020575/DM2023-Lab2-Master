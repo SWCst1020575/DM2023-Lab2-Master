{
 "cells": [
  {
   "cell_type": "markdown",
   "metadata": {},
   "source": [
    "### Student Information\n",
    "Name: 蘇暐中\n",
    "\n",
    "Student ID: 109020021\n",
    "\n",
    "GitHub ID: SWCst1020575\n",
    "\n",
    "Kaggle name (Group): 這是一個整人的活動嗎？笑死人喔？主辦單位，出來解釋一下好不好\n",
    "\n",
    "Kaggle name (User): Wei-Chung Su\n",
    "\n",
    "Kaggle private scoreboard snapshot:\n",
    "\n",
    "![Snapshot](../pics/kaggle.png)"
   ]
  },
  {
   "cell_type": "markdown",
   "metadata": {},
   "source": [
    "---"
   ]
  },
  {
   "cell_type": "markdown",
   "metadata": {},
   "source": [
    "### Instructions"
   ]
  },
  {
   "cell_type": "markdown",
   "metadata": {},
   "source": [
    "1. First: __This part is worth 30% of your grade.__ Do the **take home** exercises in the DM2023-Lab2-master. You may need to copy some cells from the Lab notebook to this notebook. \n",
    "\n",
    "\n",
    "2. Second: __This part is worth 30% of your grade.__ Participate in the in-class [Kaggle Competition](https://www.kaggle.com/t/09b1d0f3f8584d06848252277cb535f2) regarding Emotion Recognition on Twitter by this link https://www.kaggle.com/t/09b1d0f3f8584d06848252277cb535f2. The scoring will be given according to your place in the Private Leaderboard ranking: \n",
    "    - **Bottom 40%**: Get 20% of the 30% available for this section.\n",
    "\n",
    "    - **Top 41% - 100%**: Get (60-x)/6 + 20 points, where x is your ranking in the leaderboard (ie. If you rank 3rd your score will be (60-3)/6 + 20 = 29.5% out of 30%)   \n",
    "    Submit your last submission __BEFORE the deadline (Dec. 27th 11:59 pm, Wednesday)_. Make sure to take a screenshot of your position at the end of the competition and store it as '''pic0.png''' under the **img** folder of this repository and rerun the cell **Student Information**.\n",
    "    \n",
    "\n",
    "3. Third: __This part is worth 30% of your grade.__ A report of your work developping the model for the competition (You can use code and comment it). This report should include what your preprocessing steps, the feature engineering steps and an explanation of your model. You can also mention different things you tried and insights you gained. \n",
    "\n",
    "\n",
    "4. Fourth: __This part is worth 10% of your grade.__ It's hard for us to follow if your code is messy :'(, so please **tidy up your notebook** and **add minimal comments where needed**.\n",
    "\n",
    "\n",
    "Upload your files to your repository then submit the link to it on the corresponding e-learn assignment.\n",
    "\n",
    "Make sure to commit and save your changes to your repository __BEFORE the deadline (Dec. 31th 11:59 pm, Sunday)__. "
   ]
  },
  {
   "cell_type": "code",
   "execution_count": 135,
   "metadata": {},
   "outputs": [],
   "source": [
    "### Begin Assignment Here"
   ]
  },
  {
   "cell_type": "markdown",
   "metadata": {},
   "source": [
    "## Part 1"
   ]
  },
  {
   "cell_type": "markdown",
   "metadata": {},
   "source": [
    "### Load data"
   ]
  },
  {
   "cell_type": "code",
   "execution_count": 136,
   "metadata": {},
   "outputs": [],
   "source": [
    "import pandas as pd\n",
    "\n",
    "### training data\n",
    "anger_train = pd.read_csv(\"../data/semeval/train/anger-ratings-0to1.train.txt\",\n",
    "                         sep=\"\\t\", header=None,names=[\"id\", \"text\", \"emotion\", \"intensity\"])\n",
    "sadness_train = pd.read_csv(\"../data/semeval/train/sadness-ratings-0to1.train.txt\",\n",
    "                         sep=\"\\t\", header=None, names=[\"id\", \"text\", \"emotion\", \"intensity\"])\n",
    "fear_train = pd.read_csv(\"../data/semeval/train/fear-ratings-0to1.train.txt\",\n",
    "                         sep=\"\\t\", header=None, names=[\"id\", \"text\", \"emotion\", \"intensity\"])\n",
    "joy_train = pd.read_csv(\"../data/semeval/train/joy-ratings-0to1.train.txt\",\n",
    "                         sep=\"\\t\", header=None, names=[\"id\", \"text\", \"emotion\", \"intensity\"])"
   ]
  },
  {
   "cell_type": "code",
   "execution_count": 137,
   "metadata": {},
   "outputs": [],
   "source": [
    "# combine 4 sub-dataset\n",
    "train_df = pd.concat([anger_train, fear_train, joy_train, sadness_train], ignore_index=True)"
   ]
  },
  {
   "cell_type": "code",
   "execution_count": 138,
   "metadata": {},
   "outputs": [
    {
     "data": {
      "text/html": [
       "<div>\n",
       "<style scoped>\n",
       "    .dataframe tbody tr th:only-of-type {\n",
       "        vertical-align: middle;\n",
       "    }\n",
       "\n",
       "    .dataframe tbody tr th {\n",
       "        vertical-align: top;\n",
       "    }\n",
       "\n",
       "    .dataframe thead th {\n",
       "        text-align: right;\n",
       "    }\n",
       "</style>\n",
       "<table border=\"1\" class=\"dataframe\">\n",
       "  <thead>\n",
       "    <tr style=\"text-align: right;\">\n",
       "      <th></th>\n",
       "      <th>id</th>\n",
       "      <th>text</th>\n",
       "      <th>emotion</th>\n",
       "      <th>intensity</th>\n",
       "    </tr>\n",
       "  </thead>\n",
       "  <tbody>\n",
       "    <tr>\n",
       "      <th>0</th>\n",
       "      <td>10000</td>\n",
       "      <td>How the fu*k! Who the heck! moved my fridge!.....</td>\n",
       "      <td>anger</td>\n",
       "      <td>0.938</td>\n",
       "    </tr>\n",
       "    <tr>\n",
       "      <th>1</th>\n",
       "      <td>10001</td>\n",
       "      <td>So my Indian Uber driver just called someone t...</td>\n",
       "      <td>anger</td>\n",
       "      <td>0.896</td>\n",
       "    </tr>\n",
       "    <tr>\n",
       "      <th>2</th>\n",
       "      <td>10002</td>\n",
       "      <td>@DPD_UK I asked for my parcel to be delivered ...</td>\n",
       "      <td>anger</td>\n",
       "      <td>0.896</td>\n",
       "    </tr>\n",
       "    <tr>\n",
       "      <th>3</th>\n",
       "      <td>10003</td>\n",
       "      <td>so ef whichever butt wipe pulled the fire alar...</td>\n",
       "      <td>anger</td>\n",
       "      <td>0.896</td>\n",
       "    </tr>\n",
       "    <tr>\n",
       "      <th>4</th>\n",
       "      <td>10004</td>\n",
       "      <td>Don't join @BTCare they put the phone down on ...</td>\n",
       "      <td>anger</td>\n",
       "      <td>0.896</td>\n",
       "    </tr>\n",
       "  </tbody>\n",
       "</table>\n",
       "</div>"
      ],
      "text/plain": [
       "      id                                               text emotion  intensity\n",
       "0  10000  How the fu*k! Who the heck! moved my fridge!.....   anger      0.938\n",
       "1  10001  So my Indian Uber driver just called someone t...   anger      0.896\n",
       "2  10002  @DPD_UK I asked for my parcel to be delivered ...   anger      0.896\n",
       "3  10003  so ef whichever butt wipe pulled the fire alar...   anger      0.896\n",
       "4  10004  Don't join @BTCare they put the phone down on ...   anger      0.896"
      ]
     },
     "execution_count": 138,
     "metadata": {},
     "output_type": "execute_result"
    }
   ],
   "source": [
    "### testing data\n",
    "anger_test = pd.read_csv(\"../data/semeval/dev/anger-ratings-0to1.dev.gold.txt\",\n",
    "                         sep=\"\\t\", header=None, names=[\"id\", \"text\", \"emotion\", \"intensity\"])\n",
    "sadness_test = pd.read_csv(\"../data/semeval/dev/sadness-ratings-0to1.dev.gold.txt\",\n",
    "                         sep=\"\\t\", header=None, names=[\"id\", \"text\", \"emotion\", \"intensity\"])\n",
    "fear_test = pd.read_csv(\"../data/semeval/dev/fear-ratings-0to1.dev.gold.txt\",\n",
    "                         sep=\"\\t\", header=None, names=[\"id\", \"text\", \"emotion\", \"intensity\"])\n",
    "joy_test = pd.read_csv(\"../data/semeval/dev/joy-ratings-0to1.dev.gold.txt\",\n",
    "                         sep=\"\\t\", header=None, names=[\"id\", \"text\", \"emotion\", \"intensity\"])\n",
    "\n",
    "# combine 4 sub-dataset\n",
    "test_df = pd.concat([anger_test, fear_test, joy_test, sadness_test], ignore_index=True)\n",
    "train_df.head()"
   ]
  },
  {
   "cell_type": "code",
   "execution_count": 139,
   "metadata": {},
   "outputs": [],
   "source": [
    "# shuffle dataset\n",
    "train_df = train_df.sample(frac=1)\n",
    "test_df = test_df.sample(frac=1)"
   ]
  },
  {
   "cell_type": "markdown",
   "metadata": {},
   "source": [
    "---\n",
    "### ** >>> Exercise 1 (Take home): **  \n",
    "Plot word frequency for Top 30 words in both train and test dataset. (Hint: refer to DM lab 1)\n"
   ]
  },
  {
   "cell_type": "code",
   "execution_count": 140,
   "metadata": {},
   "outputs": [
    {
     "name": "stdout",
     "output_type": "stream",
     "text": [
      "Top 30 of training data.\n"
     ]
    },
    {
     "data": {
      "image/png": "[encoded data removed]",
      "text/plain": [
       "<Figure size 1600x600 with 1 Axes>"
      ]
     },
     "metadata": {},
     "output_type": "display_data"
    }
   ],
   "source": [
    "import seaborn as sns\n",
    "from sklearn.feature_extraction.text import CountVectorizer\n",
    "train_count = CountVectorizer(max_features=30)\n",
    "train_text = train_count.fit_transform(train_df[\"text\"]).toarray()\n",
    "\n",
    "frequency = [sum(i) for i in train_text.T]\n",
    "index = sorted(range(len(frequency)),reverse=True, key=lambda k: frequency[k])\n",
    "rank = train_count.get_feature_names_out()[index]\n",
    "\n",
    "sns.set(rc={'figure.figsize':(16,6)})\n",
    "sns.barplot(x=rank,y=sorted(frequency,reverse=True))\n",
    "print(\"Top 30 of training data.\")"
   ]
  },
  {
   "cell_type": "code",
   "execution_count": 141,
   "metadata": {},
   "outputs": [
    {
     "name": "stdout",
     "output_type": "stream",
     "text": [
      "Top 30 of testing data.\n"
     ]
    },
    {
     "data": {
      "image/png": "[encoded data removed]",
      "text/plain": [
       "<Figure size 1600x600 with 1 Axes>"
      ]
     },
     "metadata": {},
     "output_type": "display_data"
    }
   ],
   "source": [
    "test_count = CountVectorizer(max_features=30)\n",
    "test_text = train_count.fit_transform(test_df[\"text\"]).toarray()\n",
    "\n",
    "frequency = [sum(i) for i in test_text.T]\n",
    "index = sorted(range(len(frequency)),reverse=True, key=lambda k: frequency[k])\n",
    "rank = train_count.get_feature_names_out()[index]\n",
    "\n",
    "sns.set(rc={'figure.figsize':(16,6)})\n",
    "sns.barplot(x=rank,y=sorted(frequency,reverse=True))\n",
    "print(\"Top 30 of testing data.\")"
   ]
  },
  {
   "cell_type": "markdown",
   "metadata": {},
   "source": [
    "---\n",
    "### ** >>> Exercise 2 (Take home): **  \n",
    "Generate an embedding using the TF-IDF vectorizer instead of th BOW one with 1000 features and show the feature names for features [100:110]."
   ]
  },
  {
   "cell_type": "code",
   "execution_count": 162,
   "metadata": {},
   "outputs": [
    {
     "name": "stderr",
     "output_type": "stream",
     "text": [
      "/home/swc/AI/LLM/.venv/lib/python3.8/site-packages/sklearn/feature_extraction/text.py:525: UserWarning: The parameter 'token_pattern' will not be used since 'tokenizer' is not None'\n",
      "  warnings.warn(\n"
     ]
    },
    {
     "data": {
      "text/plain": [
       "array(['awful', 'b', 'baby', 'back', 'bad', 'ball', 'balls', 'bb18', 'bc',\n",
       "       'bday'], dtype=object)"
      ]
     },
     "execution_count": 162,
     "metadata": {},
     "output_type": "execute_result"
    }
   ],
   "source": [
    "from sklearn.feature_extraction.text import TfidfVectorizer\n",
    "import nltk\n",
    "TF_Vec = TfidfVectorizer(max_features=1000, tokenizer=nltk.word_tokenize) \n",
    "\n",
    "# apply analyzer to training data\n",
    "TF_Vec.fit(train_df['text'])\n",
    "\n",
    "train_BOW = TF_Vec.transform(train_df['text'])\n",
    "\n",
    "train_BOW.toarray()\n",
    "feature_names = TF_Vec.get_feature_names_out()\n",
    "feature_names[100:110]"
   ]
  },
  {
   "cell_type": "markdown",
   "metadata": {
    "id": "l743vmwgYTpo"
   },
   "source": [
    "---\n",
    "### ** >>> Exercise 3 (Take home): **  \n",
    "Can you interpret the results above? What do they mean?"
   ]
  },
  {
   "cell_type": "markdown",
   "metadata": {},
   "source": [
    "1. Confusion matrix helps us to observe precision and recall, so we can distinguish which labels are misclassified.\n",
    "2. In the figure shows above, taking \"anger\" feature for example, there are 55 true positives, 27 false positives and 29 false negatives."
   ]
  },
  {
   "cell_type": "markdown",
   "metadata": {
    "id": "GaHpgl87YTpo"
   },
   "source": [
    "---\n",
    "### ** >>> Exercise 4 (Take home): **  \n",
    "Build a model using a ```Naive Bayes``` model and train it. What are the testing results? \n",
    "\n",
    "*Reference*: https://scikit-learn.org/stable/modules/generated/sklearn.naive_bayes.MultinomialNB.html"
   ]
  },
  {
   "cell_type": "markdown",
   "metadata": {},
   "source": [
    "From master"
   ]
  },
  {
   "cell_type": "code",
   "execution_count": 143,
   "metadata": {
    "colab": {
     "base_uri": "https://localhost:8080/"
    },
    "id": "SttodxACYTpo",
    "outputId": "11fe3750-22b7-45bf-c15f-586d74c35c13"
   },
   "outputs": [
    {
     "data": {
      "text/plain": [
       "(3613, 500)"
      ]
     },
     "execution_count": 143,
     "metadata": {},
     "output_type": "execute_result"
    }
   ],
   "source": [
    "import nltk\n",
    "\n",
    "# build analyzers (bag-of-words)\n",
    "BOW_500 = CountVectorizer(max_features=500, tokenizer=nltk.word_tokenize) \n",
    "\n",
    "# apply analyzer to training data\n",
    "BOW_500.fit(train_df['text'])\n",
    "\n",
    "train_data_BOW_features_500 = BOW_500.transform(train_df['text'])\n",
    "\n",
    "## check dimension\n",
    "train_data_BOW_features_500.shape"
   ]
  },
  {
   "cell_type": "code",
   "execution_count": 144,
   "metadata": {
    "colab": {
     "base_uri": "https://localhost:8080/"
    },
    "id": "SD0rMWKgYTpo",
    "outputId": "36873985-dd8e-40ac-8ff8-f297a21f69db"
   },
   "outputs": [
    {
     "name": "stdout",
     "output_type": "stream",
     "text": [
      "X_train.shape:  (3613, 500)\n",
      "y_train.shape:  (3613,)\n",
      "X_test.shape:  (347, 500)\n",
      "y_test.shape:  (347,)\n"
     ]
    }
   ],
   "source": [
    "# from sklearn.tree import DecisionTreeClassifier\n",
    "\n",
    "# for a classificaiton problem, you need to provide both training & testing data\n",
    "X_train = BOW_500.transform(train_df['text'])\n",
    "y_train = train_df['emotion']\n",
    "\n",
    "X_test = BOW_500.transform(test_df['text'])\n",
    "y_test = test_df['emotion']\n",
    "\n",
    "## take a look at data dimension is a good habit  :)\n",
    "print('X_train.shape: ', X_train.shape)\n",
    "print('y_train.shape: ', y_train.shape)\n",
    "print('X_test.shape: ', X_test.shape)\n",
    "print('y_test.shape: ', y_test.shape)"
   ]
  },
  {
   "cell_type": "code",
   "execution_count": 145,
   "metadata": {
    "id": "-TcX8NA5YTpo"
   },
   "outputs": [],
   "source": [
    "# Funciton for visualizing confusion_matrix\n",
    "import matplotlib.pyplot as plt\n",
    "import seaborn as sns\n",
    "import numpy as np\n",
    "import itertools\n",
    "\n",
    "def plot_confusion_matrix(cm, classes, title='Confusion matrix',\n",
    "                          cmap=sns.cubehelix_palette(as_cmap=True)):\n",
    "    \"\"\"\n",
    "    This function is modified from: \n",
    "    http://scikit-learn.org/stable/auto_examples/model_selection/plot_confusion_matrix.html\n",
    "    \"\"\"\n",
    "    classes.sort()\n",
    "    tick_marks = np.arange(len(classes))    \n",
    "    \n",
    "    fig, ax = plt.subplots(figsize=(5,5))\n",
    "    im = ax.imshow(cm, interpolation='nearest', cmap=cmap)\n",
    "    ax.figure.colorbar(im, ax=ax)\n",
    "    ax.set(xticks=np.arange(cm.shape[1]),\n",
    "           yticks=np.arange(cm.shape[0]),\n",
    "           xticklabels = classes,\n",
    "           yticklabels = classes,\n",
    "           title = title,\n",
    "           xlabel = 'True label',\n",
    "           ylabel = 'Predicted label')\n",
    "\n",
    "    fmt = 'd'\n",
    "    thresh = cm.max() / 2.\n",
    "    for i, j in itertools.product(range(cm.shape[0]), range(cm.shape[1])):\n",
    "        plt.text(j, i, format(cm[i, j], fmt), horizontalalignment=\"center\", color=\"white\" if cm[i, j] > thresh else \"black\")\n",
    "    ylim_top = len(classes) - 0.5\n",
    "    plt.ylim([ylim_top, -.5])\n",
    "    plt.tight_layout()\n",
    "    plt.show()"
   ]
  },
  {
   "cell_type": "markdown",
   "metadata": {},
   "source": [
    "Answer here"
   ]
  },
  {
   "cell_type": "code",
   "execution_count": 146,
   "metadata": {},
   "outputs": [
    {
     "name": "stdout",
     "output_type": "stream",
     "text": [
      "Report for testing data:\n",
      "              precision    recall  f1-score   support\n",
      "\n",
      "       anger       0.53      0.73      0.61        84\n",
      "        fear       0.79      0.59      0.68       110\n",
      "         joy       0.65      0.81      0.72        79\n",
      "     sadness       0.69      0.47      0.56        74\n",
      "\n",
      "    accuracy                           0.65       347\n",
      "   macro avg       0.66      0.65      0.64       347\n",
      "weighted avg       0.67      0.65      0.65       347\n",
      "\n"
     ]
    },
    {
     "data": {
      "image/png": "[encoded data removed]",
      "text/plain": [
       "<Figure size 500x500 with 2 Axes>"
      ]
     },
     "metadata": {},
     "output_type": "display_data"
    }
   ],
   "source": [
    "from sklearn.naive_bayes import GaussianNB\n",
    "from sklearn.metrics import classification_report\n",
    "from sklearn.metrics import confusion_matrix\n",
    "\n",
    "gaussian = GaussianNB()\n",
    "gaussian.fit(X_train.toarray(), y_train)\n",
    "\n",
    "y_test_pred = gaussian.predict(X_test.toarray())\n",
    "\n",
    "print(\"Report for testing data:\")\n",
    "print(classification_report(y_true=y_test, y_pred=y_test_pred))\n",
    "cm = confusion_matrix(y_true=y_test, y_pred=y_test_pred)\n",
    "plot_confusion_matrix(cm, classes=['anger', 'fear', 'joy', 'sadness'], title='confusion matrix for testing')"
   ]
  },
  {
   "cell_type": "markdown",
   "metadata": {
    "id": "Xv2DqWQSYTpo"
   },
   "source": [
    "---\n",
    "### ** >>> Exercise 5 (Take home): **  \n",
    "\n",
    "How do the results from the Naive Bayes model and the Decision Tree model compare? How do you interpret these differences? Use the theoretical background covered in class to try and explain these differences."
   ]
  },
  {
   "cell_type": "markdown",
   "metadata": {},
   "source": [
    "Decision tree seems better than Naive Basyes in this dataset, since it has much higher f1-score, 0.68 > 0.65.\n",
    "The training time of Naive Bayes is more quick, because of its lighter model. While the data is not conditionally independent completely, so decision tree performs better in this situation."
   ]
  },
  {
   "cell_type": "markdown",
   "metadata": {
    "id": "NoYqY0-tYTp5"
   },
   "source": [
    "---\n",
    "### ** >>> Exercise 6 (Take home): **  \n",
    "\n",
    "Plot the Training and Validation Accuracy and Loss (different plots), just like the images below.(Note: the pictures below are an example from a different model). How to interpret the graphs you got? How are they related to the concept of overfitting/underfitting covered in class?\n",
    "<table><tr>\n",
    "    <td><img src=\"../pics/pic3.png\" style=\"width: 300px;\"/> </td>\n",
    "    <td><img src=\"../pics/pic4.png\" style=\"width: 300px;\"/> </td>\n",
    "</tr></table>"
   ]
  },
  {
   "cell_type": "code",
   "execution_count": 147,
   "metadata": {},
   "outputs": [],
   "source": [
    "# Set gpu support\n",
    "import os\n",
    "os.environ['CUDA_VISIBLE_DEVICES'] = \"1\""
   ]
  },
  {
   "cell_type": "markdown",
   "metadata": {},
   "source": [
    "From master"
   ]
  },
  {
   "cell_type": "code",
   "execution_count": 148,
   "metadata": {
    "colab": {
     "base_uri": "https://localhost:8080/"
    },
    "id": "4mIdg2D6YTpo",
    "outputId": "8f4fa078-7e07-4b76-e5ee-163d123abde3",
    "scrolled": true
   },
   "outputs": [
    {
     "name": "stdout",
     "output_type": "stream",
     "text": [
      "X_train.shape:  (3613, 500)\n",
      "y_train.shape:  (3613,)\n",
      "X_test.shape:  (347, 500)\n",
      "y_test.shape:  (347,)\n"
     ]
    }
   ],
   "source": [
    "import keras\n",
    "\n",
    "# standardize name (X, y) \n",
    "X_train = BOW_500.transform(train_df['text'])\n",
    "y_train = train_df['emotion']\n",
    "\n",
    "X_test = BOW_500.transform(test_df['text'])\n",
    "y_test = test_df['emotion']\n",
    "\n",
    "## check dimension is a good habbit \n",
    "print('X_train.shape: ', X_train.shape)\n",
    "print('y_train.shape: ', y_train.shape)\n",
    "print('X_test.shape: ', X_test.shape)\n",
    "print('y_test.shape: ', y_test.shape)"
   ]
  },
  {
   "cell_type": "code",
   "execution_count": 149,
   "metadata": {
    "colab": {
     "base_uri": "https://localhost:8080/"
    },
    "id": "SU95MCsSYTpo",
    "outputId": "7f536cfa-8eda-4c04-bbbb-f35caa203f88"
   },
   "outputs": [
    {
     "name": "stdout",
     "output_type": "stream",
     "text": [
      "check label:  ['anger' 'fear' 'joy' 'sadness']\n",
      "\n",
      "## Before convert\n",
      "y_train[0:4]:\n",
      " 276       anger\n",
      "2867    sadness\n",
      "532       anger\n",
      "3020    sadness\n",
      "Name: emotion, dtype: object\n",
      "\n",
      "y_train.shape:  (3613,)\n",
      "y_test.shape:  (347,)\n",
      "\n",
      "\n",
      "## After convert\n",
      "y_train[0:4]:\n",
      " [[1. 0. 0. 0.]\n",
      " [0. 0. 0. 1.]\n",
      " [1. 0. 0. 0.]\n",
      " [0. 0. 0. 1.]]\n",
      "\n",
      "y_train.shape:  (3613, 4)\n",
      "y_test.shape:  (347, 4)\n"
     ]
    }
   ],
   "source": [
    "## deal with label (string -> one-hot)\n",
    "\n",
    "from sklearn.preprocessing import LabelEncoder\n",
    "\n",
    "label_encoder = LabelEncoder()\n",
    "label_encoder.fit(y_train)\n",
    "print('check label: ', label_encoder.classes_)\n",
    "print('\\n## Before convert')\n",
    "print('y_train[0:4]:\\n', y_train[0:4])\n",
    "print('\\ny_train.shape: ', y_train.shape)\n",
    "print('y_test.shape: ', y_test.shape)\n",
    "\n",
    "def label_encode(le, labels):\n",
    "    enc = le.transform(labels)\n",
    "    return keras.utils.to_categorical(enc)\n",
    "\n",
    "def label_decode(le, one_hot_label):\n",
    "    dec = np.argmax(one_hot_label, axis=1)\n",
    "    return le.inverse_transform(dec)\n",
    "\n",
    "y_train = label_encode(label_encoder, y_train)\n",
    "y_test = label_encode(label_encoder, y_test)\n",
    "\n",
    "print('\\n\\n## After convert')\n",
    "print('y_train[0:4]:\\n', y_train[0:4])\n",
    "print('\\ny_train.shape: ', y_train.shape)\n",
    "print('y_test.shape: ', y_test.shape)\n"
   ]
  },
  {
   "cell_type": "code",
   "execution_count": 150,
   "metadata": {
    "colab": {
     "base_uri": "https://localhost:8080/"
    },
    "id": "6sA7cx-oYTpo",
    "outputId": "9f544ca7-8ceb-45e4-a76d-bdc8ccdb329c"
   },
   "outputs": [
    {
     "name": "stdout",
     "output_type": "stream",
     "text": [
      "input_shape:  500\n",
      "output_shape:  4\n"
     ]
    }
   ],
   "source": [
    "# I/O check\n",
    "input_shape = X_train.shape[1]\n",
    "print('input_shape: ', input_shape)\n",
    "\n",
    "output_shape = len(label_encoder.classes_)\n",
    "print('output_shape: ', output_shape)"
   ]
  },
  {
   "cell_type": "code",
   "execution_count": 151,
   "metadata": {
    "colab": {
     "base_uri": "https://localhost:8080/"
    },
    "id": "jTeBWTvgYTpo",
    "outputId": "3e88d40f-2179-40ea-89c6-55085cabd1c6"
   },
   "outputs": [
    {
     "name": "stdout",
     "output_type": "stream",
     "text": [
      "Model: \"model\"\n",
      "_________________________________________________________________\n",
      " Layer (type)                Output Shape              Param #   \n",
      "=================================================================\n",
      " input_1 (InputLayer)        [(None, 500)]             0         \n",
      "                                                                 \n",
      " dense (Dense)               (None, 64)                32064     \n",
      "                                                                 \n",
      " re_lu (ReLU)                (None, 64)                0         \n",
      "                                                                 \n",
      " dense_1 (Dense)             (None, 64)                4160      \n",
      "                                                                 \n",
      " re_lu_1 (ReLU)              (None, 64)                0         \n",
      "                                                                 \n",
      " dense_2 (Dense)             (None, 4)                 260       \n",
      "                                                                 \n",
      " softmax (Softmax)           (None, 4)                 0         \n",
      "                                                                 \n",
      "=================================================================\n",
      "Total params: 36484 (142.52 KB)\n",
      "Trainable params: 36484 (142.52 KB)\n",
      "Non-trainable params: 0 (0.00 Byte)\n",
      "_________________________________________________________________\n"
     ]
    }
   ],
   "source": [
    "from keras.models import Model\n",
    "from keras.layers import Input, Dense\n",
    "from keras.layers import ReLU, Softmax\n",
    "\n",
    "# input layer\n",
    "model_input = Input(shape=(input_shape, ))  # 500\n",
    "X = model_input\n",
    "\n",
    "# 1st hidden layer\n",
    "X_W1 = Dense(units=64)(X)  # 64\n",
    "H1 = ReLU()(X_W1)\n",
    "\n",
    "# 2nd hidden layer\n",
    "H1_W2 = Dense(units=64)(H1)  # 64\n",
    "H2 = ReLU()(H1_W2)\n",
    "\n",
    "# output layer\n",
    "H2_W3 = Dense(units=output_shape)(H2)  # 4\n",
    "H3 = Softmax()(H2_W3)\n",
    "\n",
    "model_output = H3\n",
    "\n",
    "# create model\n",
    "model = Model(inputs=[model_input], outputs=[model_output])\n",
    "\n",
    "# loss function & optimizer\n",
    "model.compile(optimizer='adam',\n",
    "              loss='categorical_crossentropy',\n",
    "              metrics=['accuracy'])\n",
    "\n",
    "# show model construction\n",
    "model.summary()"
   ]
  },
  {
   "cell_type": "code",
   "execution_count": 152,
   "metadata": {
    "colab": {
     "base_uri": "https://localhost:8080/"
    },
    "id": "Kl374LYqYTpo",
    "outputId": "75b1f651-b779-4efd-ff14-0b4a0e95d8db",
    "scrolled": true
   },
   "outputs": [
    {
     "name": "stdout",
     "output_type": "stream",
     "text": [
      "Epoch 1/100\n",
      "8/8 [==============================] - 1s 23ms/step - loss: 1.3715 - accuracy: 0.3028 - val_loss: 1.3700 - val_accuracy: 0.3343\n",
      "Epoch 2/100\n",
      "8/8 [==============================] - 0s 7ms/step - loss: 1.3298 - accuracy: 0.3543 - val_loss: 1.3545 - val_accuracy: 0.3458\n",
      "Epoch 3/100\n",
      "8/8 [==============================] - 0s 5ms/step - loss: 1.2961 - accuracy: 0.3936 - val_loss: 1.3366 - val_accuracy: 0.3775\n",
      "Epoch 4/100\n",
      "8/8 [==============================] - 0s 7ms/step - loss: 1.2576 - accuracy: 0.4464 - val_loss: 1.3126 - val_accuracy: 0.4063\n",
      "Epoch 5/100\n",
      "8/8 [==============================] - 0s 5ms/step - loss: 1.2092 - accuracy: 0.4996 - val_loss: 1.2819 - val_accuracy: 0.4323\n",
      "Epoch 6/100\n",
      "8/8 [==============================] - 0s 5ms/step - loss: 1.1505 - accuracy: 0.5666 - val_loss: 1.2428 - val_accuracy: 0.4640\n",
      "Epoch 7/100\n",
      "8/8 [==============================] - 0s 4ms/step - loss: 1.0800 - accuracy: 0.6070 - val_loss: 1.1949 - val_accuracy: 0.4755\n",
      "Epoch 8/100\n",
      "8/8 [==============================] - 0s 4ms/step - loss: 0.9999 - accuracy: 0.6554 - val_loss: 1.1421 - val_accuracy: 0.5014\n",
      "Epoch 9/100\n",
      "8/8 [==============================] - 0s 5ms/step - loss: 0.9124 - accuracy: 0.7011 - val_loss: 1.0871 - val_accuracy: 0.5562\n",
      "Epoch 10/100\n",
      "8/8 [==============================] - 0s 4ms/step - loss: 0.8214 - accuracy: 0.7321 - val_loss: 1.0251 - val_accuracy: 0.6225\n",
      "Epoch 11/100\n",
      "8/8 [==============================] - 0s 5ms/step - loss: 0.7391 - accuracy: 0.7775 - val_loss: 0.9682 - val_accuracy: 0.6282\n",
      "Epoch 12/100\n",
      "8/8 [==============================] - 0s 4ms/step - loss: 0.6627 - accuracy: 0.7910 - val_loss: 0.9133 - val_accuracy: 0.6282\n",
      "Epoch 13/100\n",
      "8/8 [==============================] - 0s 5ms/step - loss: 0.5892 - accuracy: 0.8165 - val_loss: 0.8714 - val_accuracy: 0.6599\n",
      "Epoch 14/100\n",
      "8/8 [==============================] - 0s 4ms/step - loss: 0.5336 - accuracy: 0.8284 - val_loss: 0.8443 - val_accuracy: 0.6571\n",
      "Epoch 15/100\n",
      "8/8 [==============================] - 0s 4ms/step - loss: 0.4877 - accuracy: 0.8445 - val_loss: 0.8218 - val_accuracy: 0.6744\n",
      "Epoch 16/100\n",
      "8/8 [==============================] - 0s 4ms/step - loss: 0.4484 - accuracy: 0.8530 - val_loss: 0.8019 - val_accuracy: 0.6801\n",
      "Epoch 17/100\n",
      "8/8 [==============================] - 0s 4ms/step - loss: 0.4164 - accuracy: 0.8655 - val_loss: 0.7895 - val_accuracy: 0.7003\n",
      "Epoch 18/100\n",
      "8/8 [==============================] - 0s 7ms/step - loss: 0.3889 - accuracy: 0.8719 - val_loss: 0.7829 - val_accuracy: 0.6945\n",
      "Epoch 19/100\n",
      "8/8 [==============================] - 0s 4ms/step - loss: 0.3672 - accuracy: 0.8738 - val_loss: 0.7817 - val_accuracy: 0.6974\n",
      "Epoch 20/100\n",
      "8/8 [==============================] - 0s 3ms/step - loss: 0.3441 - accuracy: 0.8862 - val_loss: 0.7941 - val_accuracy: 0.6945\n",
      "Epoch 21/100\n",
      "8/8 [==============================] - 0s 3ms/step - loss: 0.3280 - accuracy: 0.8943 - val_loss: 0.7976 - val_accuracy: 0.7003\n",
      "Epoch 22/100\n",
      "8/8 [==============================] - 0s 4ms/step - loss: 0.3137 - accuracy: 0.8976 - val_loss: 0.8081 - val_accuracy: 0.6945\n",
      "Epoch 23/100\n",
      "8/8 [==============================] - 0s 4ms/step - loss: 0.3043 - accuracy: 0.8959 - val_loss: 0.8211 - val_accuracy: 0.6801\n",
      "Epoch 24/100\n",
      "8/8 [==============================] - 0s 5ms/step - loss: 0.2874 - accuracy: 0.9056 - val_loss: 0.8254 - val_accuracy: 0.6974\n",
      "Epoch 25/100\n",
      "8/8 [==============================] - 0s 3ms/step - loss: 0.2721 - accuracy: 0.9076 - val_loss: 0.8259 - val_accuracy: 0.6945\n",
      "Epoch 26/100\n",
      "8/8 [==============================] - 0s 3ms/step - loss: 0.2592 - accuracy: 0.9136 - val_loss: 0.8327 - val_accuracy: 0.6859\n",
      "Epoch 27/100\n",
      "8/8 [==============================] - 0s 4ms/step - loss: 0.2517 - accuracy: 0.9217 - val_loss: 0.8409 - val_accuracy: 0.6916\n",
      "Epoch 28/100\n",
      "8/8 [==============================] - 0s 4ms/step - loss: 0.2419 - accuracy: 0.9233 - val_loss: 0.8408 - val_accuracy: 0.6916\n",
      "Epoch 29/100\n",
      "8/8 [==============================] - 0s 4ms/step - loss: 0.2309 - accuracy: 0.9269 - val_loss: 0.8507 - val_accuracy: 0.7003\n",
      "Epoch 30/100\n",
      "8/8 [==============================] - 0s 3ms/step - loss: 0.2200 - accuracy: 0.9330 - val_loss: 0.8531 - val_accuracy: 0.6888\n",
      "Epoch 31/100\n",
      "8/8 [==============================] - 0s 3ms/step - loss: 0.2116 - accuracy: 0.9374 - val_loss: 0.8610 - val_accuracy: 0.6888\n",
      "Epoch 32/100\n",
      "8/8 [==============================] - 0s 4ms/step - loss: 0.2051 - accuracy: 0.9397 - val_loss: 0.8672 - val_accuracy: 0.6945\n",
      "Epoch 33/100\n",
      "8/8 [==============================] - 0s 4ms/step - loss: 0.2013 - accuracy: 0.9369 - val_loss: 0.8750 - val_accuracy: 0.6916\n",
      "Epoch 34/100\n",
      "8/8 [==============================] - 0s 4ms/step - loss: 0.1919 - accuracy: 0.9383 - val_loss: 0.8835 - val_accuracy: 0.6945\n",
      "Epoch 35/100\n",
      "8/8 [==============================] - 0s 4ms/step - loss: 0.1940 - accuracy: 0.9408 - val_loss: 0.8879 - val_accuracy: 0.6945\n",
      "Epoch 36/100\n",
      "8/8 [==============================] - 0s 3ms/step - loss: 0.1813 - accuracy: 0.9449 - val_loss: 0.9040 - val_accuracy: 0.6888\n",
      "Epoch 37/100\n",
      "8/8 [==============================] - 0s 3ms/step - loss: 0.1725 - accuracy: 0.9482 - val_loss: 0.9294 - val_accuracy: 0.6974\n",
      "Epoch 38/100\n",
      "8/8 [==============================] - 0s 3ms/step - loss: 0.1672 - accuracy: 0.9493 - val_loss: 0.9456 - val_accuracy: 0.6916\n",
      "Epoch 39/100\n",
      "8/8 [==============================] - 0s 4ms/step - loss: 0.1646 - accuracy: 0.9521 - val_loss: 0.9493 - val_accuracy: 0.6830\n",
      "Epoch 40/100\n",
      "8/8 [==============================] - 0s 3ms/step - loss: 0.1598 - accuracy: 0.9516 - val_loss: 0.9574 - val_accuracy: 0.6859\n",
      "Epoch 41/100\n",
      "8/8 [==============================] - 0s 3ms/step - loss: 0.1530 - accuracy: 0.9560 - val_loss: 0.9615 - val_accuracy: 0.6830\n",
      "Epoch 42/100\n",
      "8/8 [==============================] - 0s 4ms/step - loss: 0.1498 - accuracy: 0.9588 - val_loss: 0.9546 - val_accuracy: 0.6916\n",
      "Epoch 43/100\n",
      "8/8 [==============================] - 0s 4ms/step - loss: 0.1471 - accuracy: 0.9590 - val_loss: 0.9672 - val_accuracy: 0.6859\n",
      "Epoch 44/100\n",
      "8/8 [==============================] - 0s 4ms/step - loss: 0.1413 - accuracy: 0.9607 - val_loss: 0.9662 - val_accuracy: 0.6888\n",
      "Epoch 45/100\n",
      "8/8 [==============================] - 0s 4ms/step - loss: 0.1357 - accuracy: 0.9615 - val_loss: 0.9912 - val_accuracy: 0.6772\n",
      "Epoch 46/100\n",
      "8/8 [==============================] - 0s 4ms/step - loss: 0.1316 - accuracy: 0.9615 - val_loss: 1.0202 - val_accuracy: 0.6744\n",
      "Epoch 47/100\n",
      "8/8 [==============================] - 0s 4ms/step - loss: 0.1288 - accuracy: 0.9640 - val_loss: 1.0474 - val_accuracy: 0.6686\n",
      "Epoch 48/100\n",
      "8/8 [==============================] - 0s 3ms/step - loss: 0.1289 - accuracy: 0.9651 - val_loss: 1.0675 - val_accuracy: 0.6830\n",
      "Epoch 49/100\n",
      "8/8 [==============================] - 0s 4ms/step - loss: 0.1258 - accuracy: 0.9624 - val_loss: 1.0693 - val_accuracy: 0.6715\n",
      "Epoch 50/100\n",
      "8/8 [==============================] - 0s 4ms/step - loss: 0.1187 - accuracy: 0.9687 - val_loss: 1.0909 - val_accuracy: 0.6772\n",
      "Epoch 51/100\n",
      "8/8 [==============================] - 0s 4ms/step - loss: 0.1164 - accuracy: 0.9690 - val_loss: 1.0879 - val_accuracy: 0.6686\n",
      "Epoch 52/100\n",
      "8/8 [==============================] - 0s 4ms/step - loss: 0.1140 - accuracy: 0.9682 - val_loss: 1.0915 - val_accuracy: 0.6715\n",
      "Epoch 53/100\n",
      "8/8 [==============================] - 0s 3ms/step - loss: 0.1086 - accuracy: 0.9696 - val_loss: 1.1092 - val_accuracy: 0.6686\n",
      "Epoch 54/100\n",
      "8/8 [==============================] - 0s 3ms/step - loss: 0.1065 - accuracy: 0.9684 - val_loss: 1.1361 - val_accuracy: 0.6830\n",
      "Epoch 55/100\n",
      "8/8 [==============================] - 0s 3ms/step - loss: 0.1117 - accuracy: 0.9684 - val_loss: 1.1459 - val_accuracy: 0.6772\n",
      "Epoch 56/100\n",
      "8/8 [==============================] - 0s 3ms/step - loss: 0.1068 - accuracy: 0.9696 - val_loss: 1.1384 - val_accuracy: 0.6628\n",
      "Epoch 57/100\n",
      "8/8 [==============================] - 0s 4ms/step - loss: 0.1002 - accuracy: 0.9712 - val_loss: 1.1478 - val_accuracy: 0.6542\n",
      "Epoch 58/100\n",
      "8/8 [==============================] - 0s 3ms/step - loss: 0.0971 - accuracy: 0.9701 - val_loss: 1.1495 - val_accuracy: 0.6599\n",
      "Epoch 59/100\n",
      "8/8 [==============================] - 0s 3ms/step - loss: 0.0932 - accuracy: 0.9707 - val_loss: 1.1575 - val_accuracy: 0.6571\n",
      "Epoch 60/100\n",
      "8/8 [==============================] - 0s 3ms/step - loss: 0.0949 - accuracy: 0.9720 - val_loss: 1.1720 - val_accuracy: 0.6744\n",
      "Epoch 61/100\n",
      "8/8 [==============================] - 0s 4ms/step - loss: 0.0929 - accuracy: 0.9720 - val_loss: 1.1984 - val_accuracy: 0.6542\n",
      "Epoch 62/100\n",
      "8/8 [==============================] - 0s 4ms/step - loss: 0.0913 - accuracy: 0.9720 - val_loss: 1.1930 - val_accuracy: 0.6830\n",
      "Epoch 63/100\n",
      "8/8 [==============================] - 0s 4ms/step - loss: 0.0921 - accuracy: 0.9715 - val_loss: 1.2055 - val_accuracy: 0.6744\n",
      "Epoch 64/100\n",
      "8/8 [==============================] - 0s 3ms/step - loss: 0.0874 - accuracy: 0.9718 - val_loss: 1.2127 - val_accuracy: 0.6657\n",
      "Epoch 65/100\n",
      "8/8 [==============================] - 0s 4ms/step - loss: 0.0849 - accuracy: 0.9729 - val_loss: 1.2222 - val_accuracy: 0.6715\n",
      "Epoch 66/100\n",
      "8/8 [==============================] - 0s 3ms/step - loss: 0.0858 - accuracy: 0.9740 - val_loss: 1.2293 - val_accuracy: 0.6715\n",
      "Epoch 67/100\n",
      "8/8 [==============================] - 0s 3ms/step - loss: 0.0832 - accuracy: 0.9740 - val_loss: 1.2320 - val_accuracy: 0.6715\n",
      "Epoch 68/100\n",
      "8/8 [==============================] - 0s 3ms/step - loss: 0.0798 - accuracy: 0.9740 - val_loss: 1.2549 - val_accuracy: 0.6830\n",
      "Epoch 69/100\n",
      "8/8 [==============================] - 0s 4ms/step - loss: 0.0796 - accuracy: 0.9745 - val_loss: 1.2740 - val_accuracy: 0.6628\n",
      "Epoch 70/100\n",
      "8/8 [==============================] - 0s 3ms/step - loss: 0.0817 - accuracy: 0.9756 - val_loss: 1.2909 - val_accuracy: 0.6715\n",
      "Epoch 71/100\n",
      "8/8 [==============================] - 0s 3ms/step - loss: 0.0793 - accuracy: 0.9751 - val_loss: 1.3057 - val_accuracy: 0.6715\n",
      "Epoch 72/100\n",
      "8/8 [==============================] - 0s 3ms/step - loss: 0.0772 - accuracy: 0.9762 - val_loss: 1.2998 - val_accuracy: 0.6657\n",
      "Epoch 73/100\n",
      "8/8 [==============================] - 0s 3ms/step - loss: 0.0755 - accuracy: 0.9754 - val_loss: 1.3033 - val_accuracy: 0.6715\n",
      "Epoch 74/100\n",
      "8/8 [==============================] - 0s 3ms/step - loss: 0.0728 - accuracy: 0.9773 - val_loss: 1.3215 - val_accuracy: 0.6715\n",
      "Epoch 75/100\n",
      "8/8 [==============================] - 0s 3ms/step - loss: 0.0714 - accuracy: 0.9792 - val_loss: 1.3351 - val_accuracy: 0.6686\n",
      "Epoch 76/100\n",
      "8/8 [==============================] - 0s 3ms/step - loss: 0.0755 - accuracy: 0.9768 - val_loss: 1.3369 - val_accuracy: 0.6686\n",
      "Epoch 77/100\n",
      "8/8 [==============================] - 0s 4ms/step - loss: 0.0780 - accuracy: 0.9781 - val_loss: 1.3286 - val_accuracy: 0.6744\n",
      "Epoch 78/100\n",
      "8/8 [==============================] - 0s 3ms/step - loss: 0.0744 - accuracy: 0.9773 - val_loss: 1.3346 - val_accuracy: 0.6715\n",
      "Epoch 79/100\n",
      "8/8 [==============================] - 0s 3ms/step - loss: 0.0717 - accuracy: 0.9770 - val_loss: 1.3448 - val_accuracy: 0.6686\n",
      "Epoch 80/100\n",
      "8/8 [==============================] - 0s 4ms/step - loss: 0.0752 - accuracy: 0.9784 - val_loss: 1.3511 - val_accuracy: 0.6916\n",
      "Epoch 81/100\n",
      "8/8 [==============================] - 0s 4ms/step - loss: 0.0747 - accuracy: 0.9768 - val_loss: 1.3591 - val_accuracy: 0.6772\n",
      "Epoch 82/100\n",
      "8/8 [==============================] - 0s 4ms/step - loss: 0.0711 - accuracy: 0.9773 - val_loss: 1.3682 - val_accuracy: 0.6657\n",
      "Epoch 83/100\n",
      "8/8 [==============================] - 0s 4ms/step - loss: 0.0721 - accuracy: 0.9770 - val_loss: 1.3860 - val_accuracy: 0.6715\n",
      "Epoch 84/100\n",
      "8/8 [==============================] - 0s 4ms/step - loss: 0.0706 - accuracy: 0.9790 - val_loss: 1.3878 - val_accuracy: 0.6657\n",
      "Epoch 85/100\n",
      "8/8 [==============================] - 0s 4ms/step - loss: 0.0693 - accuracy: 0.9806 - val_loss: 1.4055 - val_accuracy: 0.6686\n",
      "Epoch 86/100\n",
      "8/8 [==============================] - 0s 3ms/step - loss: 0.0661 - accuracy: 0.9790 - val_loss: 1.4165 - val_accuracy: 0.6715\n",
      "Epoch 87/100\n",
      "8/8 [==============================] - 0s 4ms/step - loss: 0.0639 - accuracy: 0.9792 - val_loss: 1.4314 - val_accuracy: 0.6628\n",
      "Epoch 88/100\n",
      "8/8 [==============================] - 0s 3ms/step - loss: 0.0626 - accuracy: 0.9795 - val_loss: 1.4406 - val_accuracy: 0.6715\n",
      "Epoch 89/100\n",
      "8/8 [==============================] - 0s 3ms/step - loss: 0.0600 - accuracy: 0.9803 - val_loss: 1.4467 - val_accuracy: 0.6772\n",
      "Epoch 90/100\n",
      "8/8 [==============================] - 0s 3ms/step - loss: 0.0571 - accuracy: 0.9801 - val_loss: 1.4511 - val_accuracy: 0.6744\n",
      "Epoch 91/100\n",
      "8/8 [==============================] - 0s 4ms/step - loss: 0.0548 - accuracy: 0.9809 - val_loss: 1.4552 - val_accuracy: 0.6772\n",
      "Epoch 92/100\n",
      "8/8 [==============================] - 0s 3ms/step - loss: 0.0556 - accuracy: 0.9803 - val_loss: 1.4670 - val_accuracy: 0.6715\n",
      "Epoch 93/100\n",
      "8/8 [==============================] - 0s 3ms/step - loss: 0.0558 - accuracy: 0.9812 - val_loss: 1.4805 - val_accuracy: 0.6715\n",
      "Epoch 94/100\n",
      "8/8 [==============================] - 0s 6ms/step - loss: 0.0591 - accuracy: 0.9809 - val_loss: 1.4948 - val_accuracy: 0.6628\n",
      "Epoch 95/100\n",
      "8/8 [==============================] - 0s 3ms/step - loss: 0.0574 - accuracy: 0.9803 - val_loss: 1.5023 - val_accuracy: 0.6657\n",
      "Epoch 96/100\n",
      "8/8 [==============================] - 0s 3ms/step - loss: 0.0545 - accuracy: 0.9812 - val_loss: 1.5039 - val_accuracy: 0.6686\n",
      "Epoch 97/100\n",
      "8/8 [==============================] - 0s 3ms/step - loss: 0.0560 - accuracy: 0.9809 - val_loss: 1.5140 - val_accuracy: 0.6744\n",
      "Epoch 98/100\n",
      "8/8 [==============================] - 0s 3ms/step - loss: 0.0556 - accuracy: 0.9823 - val_loss: 1.5200 - val_accuracy: 0.6686\n",
      "Epoch 99/100\n",
      "8/8 [==============================] - 0s 3ms/step - loss: 0.0548 - accuracy: 0.9820 - val_loss: 1.5231 - val_accuracy: 0.6686\n",
      "Epoch 100/100\n",
      "8/8 [==============================] - 0s 3ms/step - loss: 0.0532 - accuracy: 0.9801 - val_loss: 1.5302 - val_accuracy: 0.6686\n",
      "training finish\n"
     ]
    }
   ],
   "source": [
    "from keras.callbacks import CSVLogger\n",
    "\n",
    "csv_logger = CSVLogger('logs/training_log.csv')\n",
    "\n",
    "# training setting\n",
    "epochs = 100\n",
    "batch_size = 512\n",
    "\n",
    "# training!\n",
    "history = model.fit(X_train, y_train, \n",
    "                    epochs=epochs, \n",
    "                    batch_size=batch_size, \n",
    "                    callbacks=[csv_logger],\n",
    "                    validation_data = (X_test, y_test))\n",
    "print('training finish')"
   ]
  },
  {
   "cell_type": "code",
   "execution_count": 153,
   "metadata": {
    "colab": {
     "base_uri": "https://localhost:8080/"
    },
    "id": "xdnLuBYBYTpo",
    "outputId": "6e7e97b7-fe5c-44f6-9baa-a71335aa7b06"
   },
   "outputs": [
    {
     "name": "stdout",
     "output_type": "stream",
     "text": [
      "3/3 [==============================] - 0s 1ms/step\n"
     ]
    },
    {
     "data": {
      "text/plain": [
       "array([[1.0846114e-02, 1.6579477e-06, 9.8703259e-01, 2.1197316e-03],\n",
       "       [1.2119310e-02, 8.2628155e-01, 3.6014445e-02, 1.2558471e-01],\n",
       "       [9.9737428e-02, 8.9935023e-01, 2.5645425e-04, 6.5592863e-04],\n",
       "       [1.5880765e-08, 7.2011309e-05, 9.9992687e-01, 1.0819099e-06],\n",
       "       [1.6226287e-01, 6.6087760e-02, 7.5345176e-01, 1.8197574e-02]],\n",
       "      dtype=float32)"
      ]
     },
     "execution_count": 153,
     "metadata": {},
     "output_type": "execute_result"
    }
   ],
   "source": [
    "## predict\n",
    "pred_result = model.predict(X_test, batch_size=128)\n",
    "pred_result[:5]"
   ]
  },
  {
   "cell_type": "markdown",
   "metadata": {},
   "source": [
    "Answer here"
   ]
  },
  {
   "cell_type": "code",
   "execution_count": 154,
   "metadata": {},
   "outputs": [
    {
     "data": {
      "text/html": [
       "<div>\n",
       "<style scoped>\n",
       "    .dataframe tbody tr th:only-of-type {\n",
       "        vertical-align: middle;\n",
       "    }\n",
       "\n",
       "    .dataframe tbody tr th {\n",
       "        vertical-align: top;\n",
       "    }\n",
       "\n",
       "    .dataframe thead th {\n",
       "        text-align: right;\n",
       "    }\n",
       "</style>\n",
       "<table border=\"1\" class=\"dataframe\">\n",
       "  <thead>\n",
       "    <tr style=\"text-align: right;\">\n",
       "      <th></th>\n",
       "      <th>epoch</th>\n",
       "      <th>accuracy</th>\n",
       "      <th>loss</th>\n",
       "      <th>val_accuracy</th>\n",
       "      <th>val_loss</th>\n",
       "    </tr>\n",
       "  </thead>\n",
       "  <tbody>\n",
       "    <tr>\n",
       "      <th>0</th>\n",
       "      <td>0</td>\n",
       "      <td>0.302795</td>\n",
       "      <td>1.371492</td>\n",
       "      <td>0.334294</td>\n",
       "      <td>1.369962</td>\n",
       "    </tr>\n",
       "    <tr>\n",
       "      <th>1</th>\n",
       "      <td>1</td>\n",
       "      <td>0.354276</td>\n",
       "      <td>1.329767</td>\n",
       "      <td>0.345821</td>\n",
       "      <td>1.354476</td>\n",
       "    </tr>\n",
       "    <tr>\n",
       "      <th>2</th>\n",
       "      <td>2</td>\n",
       "      <td>0.393579</td>\n",
       "      <td>1.296097</td>\n",
       "      <td>0.377522</td>\n",
       "      <td>1.336589</td>\n",
       "    </tr>\n",
       "    <tr>\n",
       "      <th>3</th>\n",
       "      <td>3</td>\n",
       "      <td>0.446443</td>\n",
       "      <td>1.257610</td>\n",
       "      <td>0.406340</td>\n",
       "      <td>1.312550</td>\n",
       "    </tr>\n",
       "    <tr>\n",
       "      <th>4</th>\n",
       "      <td>4</td>\n",
       "      <td>0.499585</td>\n",
       "      <td>1.209227</td>\n",
       "      <td>0.432277</td>\n",
       "      <td>1.281897</td>\n",
       "    </tr>\n",
       "  </tbody>\n",
       "</table>\n",
       "</div>"
      ],
      "text/plain": [
       "   epoch  accuracy      loss  val_accuracy  val_loss\n",
       "0      0  0.302795  1.371492      0.334294  1.369962\n",
       "1      1  0.354276  1.329767      0.345821  1.354476\n",
       "2      2  0.393579  1.296097      0.377522  1.336589\n",
       "3      3  0.446443  1.257610      0.406340  1.312550\n",
       "4      4  0.499585  1.209227      0.432277  1.281897"
      ]
     },
     "execution_count": 154,
     "metadata": {},
     "output_type": "execute_result"
    }
   ],
   "source": [
    "import pandas as pd\n",
    "log = pd.read_csv('logs/training_log.csv')\n",
    "log[:5]"
   ]
  },
  {
   "cell_type": "code",
   "execution_count": 155,
   "metadata": {},
   "outputs": [
    {
     "data": {
      "text/plain": [
       "[Text(0.5, 0, 'epoch'), Text(0, 0.5, 'loss')]"
      ]
     },
     "execution_count": 155,
     "metadata": {},
     "output_type": "execute_result"
    },
    {
     "data": {
      "image/png": "[encoded data removed]",
      "text/plain": [
       "<Figure size 1000x600 with 1 Axes>"
      ]
     },
     "metadata": {},
     "output_type": "display_data"
    }
   ],
   "source": [
    "sns.set(rc={'figure.figsize':(10,6)})\n",
    "ax = sns.lineplot(legend='brief',data=log.drop([\"epoch\",\"accuracy\",\"val_accuracy\"],axis=1))\n",
    "ax.set(xlabel='epoch', ylabel='loss')"
   ]
  },
  {
   "cell_type": "code",
   "execution_count": 156,
   "metadata": {},
   "outputs": [
    {
     "data": {
      "text/plain": [
       "[Text(0.5, 0, 'epoch'), Text(0, 0.5, 'accuracy')]"
      ]
     },
     "execution_count": 156,
     "metadata": {},
     "output_type": "execute_result"
    },
    {
     "data": {
      "image/png": "[encoded data removed]",
      "text/plain": [
       "<Figure size 1000x600 with 1 Axes>"
      ]
     },
     "metadata": {},
     "output_type": "display_data"
    }
   ],
   "source": [
    "ax = sns.lineplot(legend='brief',data=log.drop([\"epoch\",\"loss\",\"val_loss\"],axis=1))\n",
    "ax.set(xlabel='epoch', ylabel='accuracy')"
   ]
  },
  {
   "cell_type": "markdown",
   "metadata": {},
   "source": [
    "1. In loss figure, we can find out the loss of testing data gets increasing after about 18 epoch, which means the model overfits.\n",
    "2. Additionally, the accuracy of testing data is converge after about 18 epoch as well.\n",
    "3. Thus, we can early stop the training to prevent overfitting."
   ]
  },
  {
   "cell_type": "markdown",
   "metadata": {
    "id": "y3RQVnBOYTp5"
   },
   "source": [
    "---\n",
    "### ** >>> Exercise 7 (Take home): **  \n",
    "\n",
    "Now, we have the word vectors, but our input data is a sequence of words (or say sentence). \n",
    "How can we utilize these \"word\" vectors to represent the sentence data and train our model?\n"
   ]
  },
  {
   "cell_type": "code",
   "execution_count": 157,
   "metadata": {},
   "outputs": [],
   "source": [
    "from tensorflow.keras.preprocessing.text import Tokenizer\n",
    "from tensorflow.keras.preprocessing.sequence import pad_sequences\n",
    "\n",
    "\n",
    "tokenizer = Tokenizer()\n",
    "tokenizer.fit_on_texts(pd.concat([train_df,test_df],ignore_index=True)['text'])\n",
    "vocab_size = len(tokenizer.word_index)+1\n",
    "\n",
    "train_encoded_phrase = tokenizer.texts_to_sequences(train_df['text'])\n",
    "test_encoded_phrase = tokenizer.texts_to_sequences(test_df['text'])\n",
    "\n",
    "max_len = 0\n",
    "for sent in train_encoded_phrase + test_encoded_phrase:\n",
    "    if max_len < len(sent):\n",
    "        max_len=len(sent)\n",
    "\n",
    "X_train = pad_sequences(train_encoded_phrase, maxlen=max_len, dtype='int32', padding='pre', truncating='pre', value=0.0)\n",
    "X_test = pad_sequences(test_encoded_phrase, maxlen=max_len, dtype='int32', padding='pre', truncating='pre', value=0.0)\n",
    "\n"
   ]
  },
  {
   "cell_type": "code",
   "execution_count": 158,
   "metadata": {},
   "outputs": [],
   "source": [
    "import numpy as np\n",
    "from gensim.models import KeyedVectors\n",
    "model_path = \"../GoogleNews/GoogleNews-vectors-negative300.bin.gz\"\n",
    "w2v_google_model = KeyedVectors.load_word2vec_format(model_path, binary=True)"
   ]
  },
  {
   "cell_type": "code",
   "execution_count": 159,
   "metadata": {},
   "outputs": [],
   "source": [
    "word_index_tuple =  list(tokenizer.word_index.items())\n",
    "embedding = [np.zeros((300,))]\n",
    "for word in enumerate(word_index_tuple):\n",
    "    try:\n",
    "        embedding.append(w2v_google_model.get_vector(word[1][0]))\n",
    "    except:\n",
    "        embedding.append(np.zeros((300,)))\n",
    "embedding = np.array(embedding)"
   ]
  },
  {
   "cell_type": "code",
   "execution_count": 160,
   "metadata": {},
   "outputs": [
    {
     "name": "stdout",
     "output_type": "stream",
     "text": [
      "Model: \"sequential\"\n",
      "_________________________________________________________________\n",
      " Layer (type)                Output Shape              Param #   \n",
      "=================================================================\n",
      " embedding (Embedding)       (None, 34, 300)           3468000   \n",
      "                                                                 \n",
      " lstm (LSTM)                 (None, 64)                93440     \n",
      "                                                                 \n",
      " flatten (Flatten)           (None, 64)                0         \n",
      "                                                                 \n",
      " dense_3 (Dense)             (None, 4)                 260       \n",
      "                                                                 \n",
      "=================================================================\n",
      "Total params: 3561700 (13.59 MB)\n",
      "Trainable params: 3561700 (13.59 MB)\n",
      "Non-trainable params: 0 (0.00 Byte)\n",
      "_________________________________________________________________\n",
      "None\n",
      "Epoch 1/15\n",
      "15/15 [==============================] - 2s 55ms/step - loss: 0.6884 - accuracy: 0.3374\n",
      "Epoch 2/15\n",
      "15/15 [==============================] - 1s 39ms/step - loss: 0.5098 - accuracy: 0.4990\n",
      "Epoch 3/15\n",
      "15/15 [==============================] - 1s 36ms/step - loss: 0.4606 - accuracy: 0.5890\n",
      "Epoch 4/15\n",
      "15/15 [==============================] - 1s 36ms/step - loss: 0.4136 - accuracy: 0.6405\n",
      "Epoch 5/15\n",
      "15/15 [==============================] - 1s 36ms/step - loss: 0.3814 - accuracy: 0.7108\n",
      "Epoch 6/15\n",
      "15/15 [==============================] - 1s 36ms/step - loss: 0.3232 - accuracy: 0.7692\n",
      "Epoch 7/15\n",
      "15/15 [==============================] - 1s 35ms/step - loss: 0.2964 - accuracy: 0.7894\n",
      "Epoch 8/15\n",
      "15/15 [==============================] - 1s 37ms/step - loss: 0.2665 - accuracy: 0.8303\n",
      "Epoch 9/15\n",
      "15/15 [==============================] - 1s 36ms/step - loss: 0.2239 - accuracy: 0.8630\n",
      "Epoch 10/15\n",
      "15/15 [==============================] - 1s 39ms/step - loss: 0.2046 - accuracy: 0.8901\n",
      "Epoch 11/15\n",
      "15/15 [==============================] - 1s 38ms/step - loss: 0.1884 - accuracy: 0.8965\n",
      "Epoch 12/15\n",
      "15/15 [==============================] - 1s 36ms/step - loss: 0.1775 - accuracy: 0.9206\n",
      "Epoch 13/15\n",
      "15/15 [==============================] - 1s 35ms/step - loss: 0.1383 - accuracy: 0.9333\n",
      "Epoch 14/15\n",
      "15/15 [==============================] - 1s 36ms/step - loss: 0.1306 - accuracy: 0.9394\n",
      "Epoch 15/15\n",
      "15/15 [==============================] - 1s 36ms/step - loss: 0.0911 - accuracy: 0.9601\n",
      "11/11 [==============================] - 0s 4ms/step\n",
      "testing accuracy: 0.7953890489913544\n"
     ]
    }
   ],
   "source": [
    "from tensorflow.keras.models import Sequential\n",
    "from tensorflow.keras.layers import Dense , Flatten , Embedding, LSTM, LSTM, ReLU, Dropout\n",
    "from tensorflow.keras.initializers import Constant\n",
    "from tensorflow.keras.layers import ReLU\n",
    "from tensorflow.keras.layers import Dropout\n",
    "from tensorflow.keras.optimizers import RMSprop\n",
    "import tensorflow as tf\n",
    "from sklearn.metrics import accuracy_score\n",
    "from tensorflow.keras.preprocessing.sequence import pad_sequences\n",
    "\n",
    "model=Sequential()\n",
    "model.add(Embedding(input_dim=vocab_size,output_dim=300,input_length=max_len,embeddings_initializer=Constant(embedding)))\n",
    "model.add(LSTM(64,return_sequences=False))\n",
    "model.add(Flatten())\n",
    "model.add(Dense(4,activation='relu')) \n",
    "model.compile(optimizer=RMSprop(learning_rate=1e-3),loss='binary_crossentropy',metrics=['accuracy'])\n",
    "\n",
    "print(model.summary())\n",
    "\n",
    "model.fit(X_train,y_train,batch_size=256,epochs=15)\n",
    "pred_result = model.predict(X_test)\n",
    "\n",
    "pred_result = label_decode(label_encoder, pred_result)\n",
    "print(f'testing accuracy: {accuracy_score(label_decode(label_encoder, y_test), pred_result)}')\n",
    "tf.keras.backend.clear_session()"
   ]
  },
  {
   "cell_type": "markdown",
   "metadata": {
    "id": "2PL61rqYYTp5"
   },
   "source": [
    "---\n",
    "### ** >>> Exercise 8 (Take home): **  \n",
    "\n",
    "Generate a t-SNE visualization to show the 15 words most related to the words \"angry\", \"happy\", \"sad\", \"fear\" (60 words total)."
   ]
  },
  {
   "cell_type": "code",
   "execution_count": 161,
   "metadata": {
    "scrolled": true
   },
   "outputs": [
    {
     "name": "stdout",
     "output_type": "stream",
     "text": [
      "happy words from w2v_google_model:  ['happy', 'glad', 'pleased', 'ecstatic', 'overjoyed', 'thrilled', 'satisfied', 'proud', 'delighted', 'disappointed', 'excited', 'happier', 'Said_Hirschbeck', 'elated', 'thankful']\n",
      "angry words from w2v_google_model:  ['angry', 'irate', 'enraged', 'indignant', 'incensed', 'annoyed', 'agitated', 'frustrated', 'furious', 'unhappy', 'outraged', 'livid', 'irritated', 'exasperated', 'angrier']\n",
      "sad words from w2v_google_model:  ['sad', 'saddening', 'Sad', 'saddened', 'heartbreaking', 'disheartening', 'Meny_Friedman', 'parishioner_Pat_Patello', 'saddens_me', 'distressing', 'reminders_bobbing', 'Turkoman_Shiites', 'saddest', 'unfortunate', 'sorry']\n",
      "fear words from w2v_google_model:  ['fear', 'fearful', 'fears', 'Fear', 'fearing', 'worry', 'dread', 'feared', 'anxiety', 'apprehension', 'afraid', 'worries', 'concern', 'distrust', 'worried']\n"
     ]
    },
    {
     "data": {
      "text/plain": [
       "<Axes: xlabel='0', ylabel='1'>"
      ]
     },
     "execution_count": 161,
     "metadata": {},
     "output_type": "execute_result"
    },
    {
     "data": {
      "image/png": "[encoded data removed]",
      "text/plain": [
       "<Figure size 800x600 with 1 Axes>"
      ]
     },
     "metadata": {},
     "output_type": "display_data"
    }
   ],
   "source": [
    "from sklearn.manifold import TSNE\n",
    "happy = ['happy'] + [word_ for word_, sim_ in w2v_google_model.most_similar('happy', topn=14)]\n",
    "angry = ['angry'] + [word_ for word_, sim_ in w2v_google_model.most_similar('angry', topn=14)]        \n",
    "sad = ['sad'] + [word_ for word_, sim_ in w2v_google_model.most_similar('sad', topn=14)]        \n",
    "fear = ['fear'] + [word_ for word_, sim_ in w2v_google_model.most_similar('fear', topn=14)]        \n",
    "\n",
    "print(f'happy words from w2v_google_model: {happy}')\n",
    "print(f'angry words from w2v_google_model: {angry}')\n",
    "print(f'sad words from w2v_google_model: {sad}')\n",
    "print(f'fear words from w2v_google_model: {fear}')\n",
    "\n",
    "words = happy + angry + sad + fear\n",
    "\n",
    "\n",
    "cn = 15\n",
    "color = ['happy'] * 15 + ['angry'] * 15 + ['sad'] * 15 + ['fear'] * 15\n",
    "\n",
    "size = 500\n",
    "target_size = len(words)\n",
    "all_words = list(w2v_google_model.index_to_key)\n",
    "word_train = words + all_words[:size]\n",
    "X_train = w2v_google_model[word_train]\n",
    "\n",
    "tsne = TSNE(n_components=2, metric='cosine', random_state=42)\n",
    "\n",
    "X_tsne = tsne.fit_transform(X_train)\n",
    "\n",
    "df = pd.DataFrame(X_tsne)\n",
    "df = pd.concat([df[:target_size],pd.Series(color,name=\"color\")],axis=1)\n",
    "sns.set(rc={'figure.figsize':(8,6)})\n",
    "sns.scatterplot(data = df, x =0,y=1 , hue=\"color\")"
   ]
  },
  {
   "cell_type": "markdown",
   "metadata": {},
   "source": [
    "## Part 2"
   ]
  },
  {
   "cell_type": "code",
   "execution_count": null,
   "metadata": {},
   "outputs": [],
   "source": [
    "import pandas as pd\n",
    "import numpy as np"
   ]
  },
  {
   "cell_type": "code",
   "execution_count": null,
   "metadata": {},
   "outputs": [],
   "source": [
    "data_identification = pd.read_csv(\"data_identification.csv\")\n",
    "emotion = pd.read_csv(\"emotion.csv\")\n",
    "tweets_DM = pd.read_json(\"tweets_DM.json\",lines=True)"
   ]
  },
  {
   "cell_type": "code",
   "execution_count": null,
   "metadata": {},
   "outputs": [],
   "source": [
    "tweets_DM[:5]"
   ]
  },
  {
   "cell_type": "code",
   "execution_count": null,
   "metadata": {},
   "outputs": [],
   "source": [
    "print(tweets_DM[\"_index\"].value_counts())\n",
    "print(tweets_DM[\"_type\"].value_counts())"
   ]
  },
  {
   "cell_type": "markdown",
   "metadata": {},
   "source": [
    "Which implies _index and _type have exact 1 type of value. Therefore, we drop these two columns."
   ]
  },
  {
   "cell_type": "code",
   "execution_count": null,
   "metadata": {},
   "outputs": [],
   "source": [
    "tweets_drop = tweets_DM.drop(columns=[\"_index\",\"_type\"],axis=1)\n",
    "tweets_drop[:5]"
   ]
  },
  {
   "cell_type": "markdown",
   "metadata": {},
   "source": [
    "```json\n",
    "{   // _source structure\n",
    "    \"tweet\":{\n",
    "        \"hashtags\":[\"tag\",\"tag\"],\n",
    "        \"tweet_id\":\"hash\",\n",
    "        \"text\": \"post content ...\"\n",
    "    }\n",
    "}\n",
    "```"
   ]
  },
  {
   "cell_type": "markdown",
   "metadata": {},
   "source": [
    "Extract dict from _source"
   ]
  },
  {
   "cell_type": "code",
   "execution_count": null,
   "metadata": {},
   "outputs": [],
   "source": [
    "hashtags = [ np.array(row['tweet']['hashtags']) for row in tweets_drop.values[:,1][:,] ]\n",
    "tweet_id = [ row['tweet']['tweet_id'] for row in tweets_drop.values[:,1][:,]]\n",
    "text = [ row['tweet']['text'] for row in tweets_drop.values[:,1][:,]]"
   ]
  },
  {
   "cell_type": "code",
   "execution_count": null,
   "metadata": {},
   "outputs": [],
   "source": [
    "tweets = pd.concat([tweets_drop,pd.Series(hashtags).to_frame(\"hashtags\")\n",
    "                    ,pd.Series(tweet_id).to_frame(\"tweet_id\"),\n",
    "                    pd.Series(text).to_frame(\"text\")],axis=1)\n",
    "tweets.drop(columns=[\"_source\"],axis=1,inplace=True)"
   ]
  },
  {
   "cell_type": "markdown",
   "metadata": {},
   "source": [
    "Remove @username, link and #tag in text"
   ]
  },
  {
   "cell_type": "code",
   "execution_count": null,
   "metadata": {},
   "outputs": [],
   "source": [
    "def textPreprocessing(processingData):\n",
    "    text = processingData[\"text\"]\n",
    "    new_text = []\n",
    "    for t in text.split(\" \"):\n",
    "        t = '' if t.startswith('@') and len(t) > 1 else t\n",
    "        t = '' if t.startswith('http') else t\n",
    "        new_text.append(t)\n",
    "    while \"<LH>\" in new_text:\n",
    "        new_text.remove(\"<LH>\")\n",
    "    new_text = \" \".join(new_text)\n",
    "    for tag in processingData[\"hashtags\"]:\n",
    "        new_text = new_text.replace(f\"#{tag}\",\"\")\n",
    "    processingData[\"text\"] = new_text\n",
    "    return processingData\n",
    "# tweets[\"text\"] = tweets[\"text\"].apply(textPreprocessing)\n",
    "tweets = tweets.apply(textPreprocessing,axis=1)\n"
   ]
  },
  {
   "cell_type": "markdown",
   "metadata": {},
   "source": [
    "Combine data and split train and test."
   ]
  },
  {
   "cell_type": "code",
   "execution_count": null,
   "metadata": {},
   "outputs": [],
   "source": [
    "tweets_identification = pd.merge(tweets,data_identification,on=\"tweet_id\")\n",
    "tweets_identification.drop(\"hashtags\",axis=1,inplace=True)\n",
    "tweets_train = tweets_identification[tweets_identification[\"identification\"] == \"train\"]\n",
    "tweets_test = tweets_identification[tweets_identification[\"identification\"] == \"test\"]\n",
    "tweets_train = pd.merge(tweets_train,emotion,on=\"tweet_id\")\n",
    "tweets_train.drop(\"identification\",axis=1,inplace=True)\n",
    "tweets_test.drop(\"identification\",axis=1,inplace=True)"
   ]
  },
  {
   "cell_type": "code",
   "execution_count": null,
   "metadata": {},
   "outputs": [],
   "source": [
    "tweets_y = tweets_train[\"emotion\"]\n",
    "# tweets_train.drop(\"emotion\",axis=1,inplace=True)"
   ]
  },
  {
   "cell_type": "markdown",
   "metadata": {},
   "source": [
    "Use Hugging Face Datasets"
   ]
  },
  {
   "cell_type": "code",
   "execution_count": null,
   "metadata": {},
   "outputs": [],
   "source": [
    "from datasets import Dataset\n",
    "# ignore score and date features.\n",
    "dataset = Dataset.from_pandas(tweets_train.drop([\"tweet_id\",\"_crawldate\",\"_score\"],axis=1))"
   ]
  },
  {
   "cell_type": "markdown",
   "metadata": {},
   "source": [
    "One-Hot encode for emotion"
   ]
  },
  {
   "cell_type": "code",
   "execution_count": null,
   "metadata": {},
   "outputs": [],
   "source": [
    "from sklearn.preprocessing import OneHotEncoder\n",
    "emotionEncoder = OneHotEncoder()\n",
    "emotionEncoder.fit(tweets_y.to_numpy().reshape(-1,1))\n",
    "y = emotionEncoder.transform(tweets_y.to_numpy().reshape(-1,1))"
   ]
  },
  {
   "cell_type": "markdown",
   "metadata": {},
   "source": [
    "### Model"
   ]
  },
  {
   "cell_type": "markdown",
   "metadata": {},
   "source": [
    "Use gpu"
   ]
  },
  {
   "cell_type": "code",
   "execution_count": null,
   "metadata": {},
   "outputs": [],
   "source": [
    "import torch\n",
    "import torch.nn as nn\n",
    "device = torch.device('cuda' if torch.cuda.is_available() else 'cpu')\n",
    "device"
   ]
  },
  {
   "cell_type": "markdown",
   "metadata": {},
   "source": [
    "Use [this pretrained model](https://huggingface.co/cardiffnlp/twitter-roberta-base-emotion-latest) to fine tune."
   ]
  },
  {
   "cell_type": "code",
   "execution_count": null,
   "metadata": {},
   "outputs": [],
   "source": [
    "from transformers import RobertaForSequenceClassification,RobertaTokenizerFast\n",
    "model = RobertaForSequenceClassification.from_pretrained('cardiffnlp/twitter-roberta-base-emotion-latest', num_labels=8, ignore_mismatched_sizes=True).to(device)\n",
    "tokenizer = RobertaTokenizerFast.from_pretrained(\"cardiffnlp/twitter-roberta-base-emotion-latest\")"
   ]
  },
  {
   "cell_type": "markdown",
   "metadata": {},
   "source": [
    "Tokenize text"
   ]
  },
  {
   "cell_type": "code",
   "execution_count": null,
   "metadata": {},
   "outputs": [],
   "source": [
    "def preprocess(data):\n",
    "    newDict = {}\n",
    "    text_tokenized = tokenizer(data[\"text\"])\n",
    "    labels = emotionEncoder.transform(np.array(data[\"emotion\"]).reshape(-1,1))\n",
    "    newDict[\"input_ids\"] = text_tokenized[\"input_ids\"]\n",
    "    newDict[\"attention_mask\"] = text_tokenized[\"attention_mask\"]\n",
    "    newDict[\"label\"] = labels.toarray()\n",
    "    return newDict\n",
    "preprocessed = dataset.map(preprocess,batched=True)"
   ]
  },
  {
   "cell_type": "code",
   "execution_count": null,
   "metadata": {},
   "outputs": [],
   "source": [
    "from transformers import DataCollatorWithPadding\n",
    "data_collator = DataCollatorWithPadding(tokenizer=tokenizer)"
   ]
  },
  {
   "cell_type": "markdown",
   "metadata": {},
   "source": [
    "Split training data"
   ]
  },
  {
   "cell_type": "code",
   "execution_count": null,
   "metadata": {},
   "outputs": [],
   "source": [
    "dataset = preprocessed.train_test_split(test_size=0.005,seed=42)\n",
    "dataset"
   ]
  },
  {
   "cell_type": "markdown",
   "metadata": {},
   "source": [
    "Measure performance with accuracy and f1-score"
   ]
  },
  {
   "cell_type": "code",
   "execution_count": null,
   "metadata": {},
   "outputs": [],
   "source": [
    "from sklearn.metrics import accuracy_score, f1_score\n",
    "def compute_metrics(pred):\n",
    "    labels = pred.label_ids.argmax(-1)\n",
    "    preds = pred.predictions.argmax(-1)\n",
    "    f1 = f1_score(labels, preds, average=\"weighted\")\n",
    "    acc = accuracy_score(labels, preds)\n",
    "    return {\"accuracy\": acc, \"f1\": f1}"
   ]
  },
  {
   "cell_type": "markdown",
   "metadata": {},
   "source": [
    "Set up trainer for training"
   ]
  },
  {
   "cell_type": "code",
   "execution_count": null,
   "metadata": {},
   "outputs": [],
   "source": [
    "from transformers import TrainingArguments,Trainer\n",
    "training_args = TrainingArguments(\n",
    "    output_dir='./results-latest-removeTag',\n",
    "    num_train_epochs=10,\n",
    "    learning_rate = 6e-5,\n",
    "    per_device_train_batch_size=32,\n",
    "    per_device_eval_batch_size=32,\n",
    "    weight_decay=0.01,\n",
    "    logging_dir='./logs',\n",
    "    logging_steps=2500,\n",
    "    load_best_model_at_end=True,\n",
    "    evaluation_strategy=\"steps\",\n",
    "    save_strategy=\"steps\",\n",
    "    metric_for_best_model=\"f1\",\n",
    "    save_steps=50000,\n",
    "    eval_accumulation_steps=1,\n",
    "    fp16=True,\n",
    "    fp16_full_eval =True\n",
    ")\n",
    "trainer = Trainer(\n",
    "    model=model,\n",
    "    args=training_args,\n",
    "    train_dataset=dataset[\"train\"],\n",
    "    eval_dataset=dataset[\"test\"],\n",
    "    tokenizer=tokenizer,\n",
    "    compute_metrics=compute_metrics,\n",
    "    data_collator=data_collator\n",
    ")"
   ]
  },
  {
   "cell_type": "code",
   "execution_count": null,
   "metadata": {},
   "outputs": [],
   "source": [
    "trainer.train(\"./results-latest-removeTag/checkpoint-300000\")"
   ]
  },
  {
   "cell_type": "markdown",
   "metadata": {},
   "source": [
    "### Predict"
   ]
  },
  {
   "cell_type": "code",
   "execution_count": null,
   "metadata": {},
   "outputs": [],
   "source": [
    "def predPreprocess(data):\n",
    "    newDict = {}\n",
    "    text_tokenized = tokenizer(data[\"text\"])\n",
    "    newDict[\"input_ids\"] = text_tokenized[\"input_ids\"]\n",
    "    newDict[\"attention_mask\"] = text_tokenized[\"attention_mask\"]\n",
    "    return newDict"
   ]
  },
  {
   "cell_type": "code",
   "execution_count": null,
   "metadata": {},
   "outputs": [],
   "source": [
    "pred_dataset = Dataset.from_pandas(tweets_test.drop([\"tweet_id\",\"_crawldate\",\"_score\"],axis=1))\n",
    "pred_preprocessed = pred_dataset.map(predPreprocess,batched=True)"
   ]
  },
  {
   "cell_type": "markdown",
   "metadata": {},
   "source": [
    "Load local model trained above"
   ]
  },
  {
   "cell_type": "code",
   "execution_count": null,
   "metadata": {},
   "outputs": [],
   "source": [
    "pred_model = RobertaForSequenceClassification.from_pretrained('./results-latest-removeTag/checkpoint-110000', num_labels=8, ignore_mismatched_sizes=True).to(device)\n",
    "pred_trainer = Trainer(\n",
    "        model=pred_model,\n",
    "        args=training_args,\n",
    "        train_dataset=None,\n",
    "        eval_dataset=None,\n",
    "        compute_metrics=compute_metrics,\n",
    "        tokenizer=tokenizer,\n",
    "        data_collator=data_collator,\n",
    "    )"
   ]
  },
  {
   "cell_type": "code",
   "execution_count": null,
   "metadata": {},
   "outputs": [],
   "source": [
    "# predictions, labels, metrics = trainer.predict(pred_preprocessed)\n",
    "predictions, labels, metrics = pred_trainer.predict(pred_preprocessed)"
   ]
  },
  {
   "cell_type": "markdown",
   "metadata": {},
   "source": [
    "Decode one-hot labels and write output file."
   ]
  },
  {
   "cell_type": "code",
   "execution_count": null,
   "metadata": {},
   "outputs": [],
   "source": [
    "predictions = torch.from_numpy(predictions)\n",
    "pred_result = torch.argmax(predictions,dim=1).to(device)\n",
    "pred_labels = torch.nn.functional.one_hot(pred_result)\n",
    "pred_emotion = emotionEncoder.inverse_transform(pred_labels.cpu()).flatten()"
   ]
  },
  {
   "cell_type": "code",
   "execution_count": null,
   "metadata": {},
   "outputs": [],
   "source": [
    "id_emotion = np.concatenate([tweets_test[\"tweet_id\"].to_numpy().reshape(-1,1),pred_emotion.reshape(-1,1)],axis=1)\n",
    "id_emotion = pd.DataFrame(id_emotion,columns=[\"id\",\"emotion\"])\n",
    "sample = pd.read_csv(\"sampleSubmission.csv\").drop(\"emotion\",axis=1)\n",
    "output = pd.merge(sample,id_emotion,on=\"id\")\n",
    "output.to_csv(\"output.csv\",index=False)"
   ]
  },
  {
   "cell_type": "markdown",
   "metadata": {},
   "source": [
    "### Discussion"
   ]
  },
  {
   "cell_type": "markdown",
   "metadata": {},
   "source": [
    "* First, I tried only replace @user and link for training. The f1-score of validation data seemed to increase unstably. \n",
    "\n",
    "    Then, I remove all @user, link and #tag in the tweet text, and the f1-score of validation data became more stably increasing, and my result of kaggle score got higher.\n",
    "\n",
    "    Therefore, I think @user, link and #tag are noises for the emotion detection. The  comparison shows in below figures.\n",
    "\n",
    "![result1](../pics/result1.png)\n",
    "![result_compare](../pics/result_compare.png)"
   ]
  },
  {
   "cell_type": "markdown",
   "metadata": {},
   "source": [
    "* If I tried to train further, the loss of training data got less, while the loss of validation data didn't decrease after 100000 step (around 3 epochs), but got increasing after 200000 steps. \n",
    "\n",
    "    It show that my model has overfitted after 200000 steps.\n",
    "\n",
    "![result2](../pics/result2.png)"
   ]
  }
 ],
 "metadata": {
  "kernelspec": {
   "display_name": "Python 3 (ipykernel)",
   "language": "python",
   "name": "python3"
  },
  "language_info": {
   "codemirror_mode": {
    "name": "ipython",
    "version": 3
   },
   "file_extension": ".py",
   "mimetype": "text/x-python",
   "name": "python",
   "nbconvert_exporter": "python",
   "pygments_lexer": "ipython3",
   "version": "3.8.18"
  },
  "varInspector": {
   "cols": {
    "lenName": 16,
    "lenType": 16,
    "lenVar": 40
   },
   "kernels_config": {
    "python": {
     "delete_cmd_postfix": "",
     "delete_cmd_prefix": "del ",
     "library": "var_list.py",
     "varRefreshCmd": "print(var_dic_list())"
    },
    "r": {
     "delete_cmd_postfix": ") ",
     "delete_cmd_prefix": "rm(",
     "library": "var_list.r",
     "varRefreshCmd": "cat(var_dic_list()) "
    }
   },
   "types_to_exclude": [
    "module",
    "function",
    "builtin_function_or_method",
    "instance",
    "_Feature"
   ],
   "window_display": false
  }
 },
 "nbformat": 4,
 "nbformat_minor": 4
}
